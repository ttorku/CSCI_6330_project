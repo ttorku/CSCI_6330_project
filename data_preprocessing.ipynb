{
 "cells": [
  {
   "cell_type": "markdown",
   "id": "df775e6e-6522-48b6-ad52-8e50a6ecff98",
   "metadata": {},
   "source": [
    "### CSCI 6330\n",
    "### Group Members: Thomas, Ahmeed, Eben, Tingting"
   ]
  },
  {
   "cell_type": "markdown",
   "id": "80c99f4a-e280-4001-b01b-49772cbf463b",
   "metadata": {},
   "source": [
    "### Data proprecssing without MPI"
   ]
  },
  {
   "cell_type": "code",
   "execution_count": 1,
   "id": "96de41a1-18af-4e99-b14d-b14bd8ee590e",
   "metadata": {},
   "outputs": [
    {
     "data": {
      "image/png": "[encoded data removed]",
      "text/plain": [
       "<Figure size 432x288 with 1 Axes>"
      ]
     },
     "metadata": {
      "needs_background": "light"
     },
     "output_type": "display_data"
    },
    {
     "name": "stdout",
     "output_type": "stream",
     "text": [
      "CPU time for data preprocessing in seconds: 0.14188800699999948\n"
     ]
    }
   ],
   "source": [
    "#import packages\n",
    "import pandas as pd\n",
    "import numpy as np\n",
    "import matplotlib.pyplot as plt\n",
    "from time import process_time    #checking cpu time\n",
    "from sklearn.preprocessing import MinMaxScaler   #for scaling data\n",
    "\n",
    "#specify the scaling type\n",
    "scaler =MinMaxScaler()\n",
    "#get the start time\n",
    "start =process_time()\n",
    "\n",
    "#load the data\n",
    "data =pd.read_csv(\"tndata.csv\")\n",
    "\n",
    "#define the preprocess function\n",
    "def data_process(data, scaler, cs =\"yes\"):\n",
    "    #reverse index\n",
    "    tdata=data.reindex(index=data.index[::-1])\n",
    "    #get the infected \n",
    "    I=tdata['TOTAL_CONFIRMED']\n",
    "    #get the recovered\n",
    "    R =tdata['TOTAL_INACTIVE_RECOVERED']\n",
    "    #get the length of the data\n",
    "    nn =len(I)\n",
    "    # show whether want to scaling\n",
    "    if cs ==\"yes\": ##indicate yes\n",
    "        tt=np.linspace(0,nn, nn)\n",
    "        y1 =np.array(I[:nn]).reshape((-1,1))\n",
    "        y2 =np.array(R[:nn]).reshape((-1,1))\n",
    "        #scaling\n",
    "        II =scaler.fit_transform(y1)\n",
    "        RR =scaler.fit_transform(y2)\n",
    "        #plot\n",
    "        plt.plot(tt, II, '--r')\n",
    "        plt.plot(tt, RR, '--b')\n",
    "        plt.legend(['Infected', 'Recovered'])\n",
    "        plt.title('Scaled Data') \n",
    "        plt.show()\n",
    "    else:  ##indicate no\n",
    "        tt=np.linspace(0,nn, nn)\n",
    "        II =np.array(I[:nn])\n",
    "        RR =np.array(R[:nn])\n",
    "        #plot\n",
    "        plt.plot(tt, II, '--r')\n",
    "        plt.plot(tt, RR, '--b')\n",
    "        plt.legend(['Infected', 'Recovered'])\n",
    "        plt.title('UnScaled Data') \n",
    "        plt.show()    \n",
    "    return \n",
    "\n",
    "data_process(data, scaler, \"yes\")\n",
    "\n",
    "stop = process_time()\n",
    "print(\"CPU time for data preprocessing in seconds:\",stop-start) "
   ]
  },
  {
   "cell_type": "code",
   "execution_count": null,
   "id": "b717942d-e991-493b-a1fd-7039ef6bd80b",
   "metadata": {},
   "outputs": [],
   "source": []
  }
 ],
 "metadata": {
  "kernelspec": {
   "display_name": "Python 3",
   "language": "python",
   "name": "python3"
  },
  "language_info": {
   "codemirror_mode": {
    "name": "ipython",
    "version": 3
   },
   "file_extension": ".py",
   "mimetype": "text/x-python",
   "name": "python",
   "nbconvert_exporter": "python",
   "pygments_lexer": "ipython3",
   "version": "3.8.8"
  }
 },
 "nbformat": 4,
 "nbformat_minor": 5
}
